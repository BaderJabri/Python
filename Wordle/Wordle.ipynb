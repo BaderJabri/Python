{
 "cells": [
  {
   "cell_type": "markdown",
   "id": "4bcbc926-8534-4048-b4fd-cbfd9fc9d1e3",
   "metadata": {
    "tags": []
   },
   "source": [
    "# Wordle\n",
    "imports"
   ]
  },
  {
   "cell_type": "code",
   "execution_count": 1,
   "id": "d2fba401-ab0a-4966-aecf-6cd509c991c4",
   "metadata": {},
   "outputs": [],
   "source": [
    "import random"
   ]
  },
  {
   "cell_type": "markdown",
   "id": "1bcc3bcd",
   "metadata": {},
   "source": [
    "Gets possible words from the file"
   ]
  },
  {
   "cell_type": "code",
   "execution_count": 2,
   "id": "a0f717c1-9a53-4dd4-8f47-3c6689f00317",
   "metadata": {},
   "outputs": [],
   "source": [
    "File = open(\"FiveLetters.txt\")\n",
    "Words = []\n",
    "for line in File:\n",
    "    Words.append(line.strip())\n",
    "File.close()"
   ]
  },
  {
   "cell_type": "markdown",
   "id": "ac4d3aee",
   "metadata": {},
   "source": [
    "Chooses a random word from list"
   ]
  },
  {
   "cell_type": "code",
   "execution_count": 3,
   "id": "87dfbb46",
   "metadata": {},
   "outputs": [],
   "source": [
    "temp = random.choice(Words)\n",
    "Chosen = list(temp.strip())\n"
   ]
  },
  {
   "cell_type": "markdown",
   "id": "ece2e860",
   "metadata": {},
   "source": [
    "compares user input and the chosen word"
   ]
  },
  {
   "cell_type": "code",
   "execution_count": 4,
   "id": "6d4d810e",
   "metadata": {},
   "outputs": [],
   "source": [
    "def compare(userInput, Chosen):\n",
    "    inputList = list(userInput.strip())\n",
    "    existance = []\n",
    "    num = 0\n",
    "    for i in inputList:\n",
    "        if i == Chosen[num]: existance.append(\"Correct\")\n",
    "        elif i == Chosen[0] or i == Chosen[1] or i == Chosen[2] or i == Chosen[3] or i == Chosen[4]: \n",
    "            existance.append(\"Exists\")\n",
    "        else: existance.append(\"Doesn't exist\")\n",
    "        num += 1\n",
    "    num = 0\n",
    "    \n",
    "    return (existance)\n",
    "\n"
   ]
  },
  {
   "cell_type": "markdown",
   "id": "cfac3324",
   "metadata": {},
   "source": [
    "Main code, give the user 6 tries to guess the word"
   ]
  },
  {
   "cell_type": "code",
   "execution_count": 5,
   "id": "3e5c5810",
   "metadata": {},
   "outputs": [
    {
     "name": "stdout",
     "output_type": "stream",
     "text": [
      " is not in our words list\n",
      "salet\n",
      "[\"Doesn't exist\", 'Correct', 'Exists', \"Doesn't exist\", \"Doesn't exist\"]\n",
      "you already tried salet\n",
      "bough\n",
      "[\"Doesn't exist\", \"Doesn't exist\", \"Doesn't exist\", 'Exists', \"Doesn't exist\"]\n",
      "prick\n",
      "[\"Doesn't exist\", \"Doesn't exist\", 'Correct', \"Doesn't exist\", \"Doesn't exist\"]\n",
      "you already tried prick\n",
      "laing is not in our words list\n",
      " is not in our words list\n",
      " is not in our words list\n",
      " is not in our words list\n",
      " is not in our words list\n",
      " is not in our words list\n",
      " is not in our words list\n",
      " is not in our words list\n",
      " is not in our words list\n",
      " is not in our words list\n",
      " is not in our words list\n",
      " is not in our words list\n",
      " is not in our words list\n",
      " is not in our words list\n",
      " is not in our words list\n",
      " is not in our words list\n",
      " is not in our words list\n",
      " is not in our words list\n",
      " is not in our words list\n",
      " is not in our words list\n",
      " is not in our words list\n",
      " is not in our words list\n",
      " is not in our words list\n",
      " is not in our words list\n",
      " is not in our words list\n",
      " is not in our words list\n",
      " is not in our words list\n",
      " is not in our words list\n",
      " is not in our words list\n",
      " is not in our words list\n",
      " is not in our words list\n",
      " is not in our words list\n",
      " is not in our words list\n"
     ]
    }
   ],
   "source": [
    "\n",
    "inputs = []\n",
    "counter = 0\n",
    "\n",
    "while counter < 6:\n",
    "    userInput = input()\n",
    "    userInput = str.lower(userInput)\n",
    "    if userInput in set(Words):\n",
    "        if userInput not in set(inputs):\n",
    "            inputs.append(userInput)\n",
    "            counter += 1\n",
    "            \n",
    "            print (userInput)\n",
    "            print (compare(userInput, Chosen))\n",
    "                \n",
    "            if compare(userInput, Chosen) == ['Correct', 'Correct', 'Correct', 'Correct','Correct']:\n",
    "                print (f\"congratulations '{userInput}' is correct\")\n",
    "                break\n",
    "        else:\n",
    "            print (f\"you already tried {userInput}\")\n",
    "    else:\n",
    "        print(f\"{userInput} is not in our words list\")\n",
    "    "
   ]
  },
  {
   "cell_type": "code",
   "execution_count": null,
   "id": "aac8b693",
   "metadata": {},
   "outputs": [
    {
     "name": "stdout",
     "output_type": "stream",
     "text": [
      "['hard', 'love', 'five', 'food', 'life', 'four']\n"
     ]
    }
   ],
   "source": [
    "print(inputs)\n"
   ]
  }
 ],
 "metadata": {
  "kernelspec": {
   "display_name": "Python 3.11.0 64-bit",
   "language": "python",
   "name": "python3"
  },
  "language_info": {
   "codemirror_mode": {
    "name": "ipython",
    "version": 3
   },
   "file_extension": ".py",
   "mimetype": "text/x-python",
   "name": "python",
   "nbconvert_exporter": "python",
   "pygments_lexer": "ipython3",
   "version": "3.11.0"
  },
  "vscode": {
   "interpreter": {
    "hash": "2af4f17621cfb6fb907350b04e3723b41854baee66cb3da13776ff941caef119"
   }
  }
 },
 "nbformat": 4,
 "nbformat_minor": 5
}
