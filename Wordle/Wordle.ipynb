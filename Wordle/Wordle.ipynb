{
 "cells": [
  {
   "cell_type": "markdown",
   "id": "4bcbc926-8534-4048-b4fd-cbfd9fc9d1e3",
   "metadata": {
    "tags": []
   },
   "source": [
    "# Wordle\n",
    "imports"
   ]
  },
  {
   "cell_type": "code",
   "execution_count": 1,
   "id": "d2fba401-ab0a-4966-aecf-6cd509c991c4",
   "metadata": {
    "jupyter": {
     "source_hidden": true
    },
    "tags": []
   },
   "outputs": [],
   "source": [
    "import random\n",
    "import gradio as gr"
   ]
  },
  {
   "attachments": {},
   "cell_type": "markdown",
   "id": "1bcc3bcd",
   "metadata": {},
   "source": [
    "Variable Declarations"
   ]
  },
  {
   "cell_type": "code",
   "execution_count": 11,
   "id": "a0f717c1-9a53-4dd4-8f47-3c6689f00317",
   "metadata": {},
   "outputs": [],
   "source": [
    "File = open(\"FiveLetters.txt\")\n",
    "Words = []\n",
    "for line in File:\n",
    "    Words.append(line.strip())\n",
    "File.close()\n",
    "\n",
    "temp = random.choice(Words)\n",
    "Chosen = list(temp.strip())\n",
    "counter = 0\n",
    "inputs = []\n",
    "correct_guesses = []"
   ]
  },
  {
   "cell_type": "markdown",
   "id": "ece2e860",
   "metadata": {},
   "source": [
    "compares user input and the chosen word"
   ]
  },
  {
   "cell_type": "code",
   "execution_count": 4,
   "id": "6d4d810e",
   "metadata": {},
   "outputs": [],
   "source": [
    "def compare(userInput, Chosen):\n",
    "    inputList = list(userInput.strip())\n",
    "    existence = []\n",
    "    num = 0\n",
    "    for i in inputList:\n",
    "        if i == Chosen[num]:\n",
    "            existence.append(\"Correct\")\n",
    "        elif i in Chosen:\n",
    "            existence.append(\"Exists\")\n",
    "        else:\n",
    "            existence.append(\"Doesn't exist\")\n",
    "        num += 1\n",
    "    return existence"
   ]
  },
  {
   "attachments": {},
   "cell_type": "markdown",
   "id": "cfac3324",
   "metadata": {
    "jupyter": {
     "source_hidden": true
    },
    "tags": []
   },
   "source": [
    "Define the function for the Gradio interface"
   ]
  },
  {
   "cell_type": "code",
   "execution_count": 5,
   "id": "20ea1407",
   "metadata": {},
   "outputs": [],
   "source": [
    "def play_wordle(user_input):\n",
    "    global counter, inputs, correct_guesses\n",
    "    if counter < 6:\n",
    "        user_input = user_input.lower()\n",
    "        if user_input in Words:\n",
    "            if user_input not in inputs:\n",
    "                inputs.append(user_input)\n",
    "                counter += 1\n",
    "                result = compare(user_input, Chosen)\n",
    "                if result == ['Correct', 'Correct', 'Correct', 'Correct', 'Correct']:\n",
    "                    return f\"Congratulations! '{user_input}' is correct.\"\n",
    "                else:\n",
    "                    correct_guesses.append(f\"{user_input}: {', '.join(result)}\")\n",
    "                    return \"\\n\".join(correct_guesses)\n",
    "            else:\n",
    "                \n",
    "                return \"You already tried '{}'.\\n\".format(user_input) + \"\\n\".join(correct_guesses)\n",
    "        else:\n",
    "            return f\"'{user_input}' is not a valid word.\\n\".format(user_input) + \"\\n\".join(correct_guesses)\n",
    "    else:\n",
    "        return f\"You have reached the maximum number of turns. The word was '{temp}'.\""
   ]
  },
  {
   "attachments": {},
   "cell_type": "markdown",
   "id": "9475916f",
   "metadata": {},
   "source": [
    "Create the Gradio interface"
   ]
  },
  {
   "cell_type": "code",
   "execution_count": 6,
   "id": "3e5c5810",
   "metadata": {
    "tags": []
   },
   "outputs": [
    {
     "name": "stdout",
     "output_type": "stream",
     "text": [
      "IMPORTANT: You are using gradio version 3.10.1, however version 3.14.0 is available, please upgrade.\n",
      "--------\n"
     ]
    }
   ],
   "source": [
    "iface = gr.Interface(\n",
    "    fn=play_wordle,\n",
    "    inputs=\"text\",\n",
    "    outputs=\"text\",\n",
    "    title=\"Wordle Game\",\n",
    "    description=\"Guess the word!\",\n",
    "    examples=[[\"apple\"], [\"black\"], [\"lemon\"]],\n",
    ")"
   ]
  },
  {
   "attachments": {},
   "cell_type": "markdown",
   "id": "6379f85e",
   "metadata": {},
   "source": [
    "Start the Gradio interface"
   ]
  },
  {
   "cell_type": "code",
   "execution_count": 12,
   "id": "aac8b693",
   "metadata": {},
   "outputs": [
    {
     "name": "stdout",
     "output_type": "stream",
     "text": [
      "Rerunning server... use `close()` to stop if you need to change `launch()` parameters.\n",
      "----\n",
      "Running on local URL:  http://127.0.0.1:7861\n",
      "\n",
      "To create a public link, set `share=True` in `launch()`.\n"
     ]
    },
    {
     "data": {
      "text/html": [
       "<div><iframe src=\"http://127.0.0.1:7861/\" width=\"100%\" height=\"500\" allow=\"autoplay; camera; microphone; clipboard-read; clipboard-write;\" frameborder=\"0\" allowfullscreen></iframe></div>"
      ],
      "text/plain": [
       "<IPython.core.display.HTML object>"
      ]
     },
     "metadata": {},
     "output_type": "display_data"
    },
    {
     "data": {
      "text/plain": []
     },
     "execution_count": 12,
     "metadata": {},
     "output_type": "execute_result"
    }
   ],
   "source": [
    "iface.launch()\n"
   ]
  }
 ],
 "metadata": {
  "kernelspec": {
   "display_name": "Python 3 (ipykernel)",
   "language": "python",
   "name": "python3"
  },
  "language_info": {
   "codemirror_mode": {
    "name": "ipython",
    "version": 3
   },
   "file_extension": ".py",
   "mimetype": "text/x-python",
   "name": "python",
   "nbconvert_exporter": "python",
   "pygments_lexer": "ipython3",
   "version": "3.11.0"
  },
  "vscode": {
   "interpreter": {
    "hash": "2af4f17621cfb6fb907350b04e3723b41854baee66cb3da13776ff941caef119"
   }
  }
 },
 "nbformat": 4,
 "nbformat_minor": 5
}
